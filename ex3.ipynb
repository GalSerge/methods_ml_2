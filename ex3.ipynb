{
  "nbformat": 4,
  "nbformat_minor": 0,
  "metadata": {
    "coursera": {
      "course_slug": "introduction-tensorflow",
      "graded_item_id": "ml06H",
      "launcher_item_id": "hQF8A"
    },
    "kernelspec": {
      "display_name": "Python 3",
      "language": "python",
      "name": "python3"
    },
    "language_info": {
      "codemirror_mode": {
        "name": "ipython",
        "version": 3
      },
      "file_extension": ".py",
      "mimetype": "text/x-python",
      "name": "python",
      "nbconvert_exporter": "python",
      "pygments_lexer": "ipython3",
      "version": "3.6.8"
    },
    "colab": {
      "provenance": [],
      "include_colab_link": true
    }
  },
  "cells": [
    {
      "cell_type": "markdown",
      "metadata": {
        "id": "view-in-github",
        "colab_type": "text"
      },
      "source": [
        "<a href=\"https://colab.research.google.com/github/GalSerge/methods_ml_2/blob/main/ex3.ipynb\" target=\"_parent\"><img src=\"https://colab.research.google.com/assets/colab-badge.svg\" alt=\"Open In Colab\"/></a>"
      ]
    },
    {
      "cell_type": "markdown",
      "metadata": {
        "id": "iQjHqsmTAVLU"
      },
      "source": [
        "## Упражнение 3\n",
        "вы уже знаете, как улучшить Fashion MNIST, используя Convolutions. Теперь посмотрите, можете ли вы улучшить MNIST с точностью до 99,8% или более, используя только один сверточный слой и один MaxPooling 2D. Вам надо будет остановить процесс обучения, как только точность превысит это значение. Это должно произойти менее чем за 20 эпох, поэтому можно точно указать количество эпох для обучения, но ваше обучение должно закончиться, как только accuracy достигнет 99,8%. Если это не произойдет, то вам нужно будет изменить дизайн ваших слоев.\n",
        "\n",
        "Начало кода уже написано - вы должны закончить код\n",
        "\n",
        "Когда достигнута точность 99,8%, надо распечатать строку «достигнута точность 99,8%, поэтому обучение прервано!»"
      ]
    },
    {
      "cell_type": "code",
      "metadata": {
        "id": "NHKVudseU5Vk"
      },
      "source": [
        "import tensorflow as tf\n",
        "from tensorflow.keras import layers, models\n",
        "from tensorflow.keras.utils import to_categorical\n",
        "from os import path, getcwd, chdir\n",
        "\n",
        "mnist = tf.keras.datasets.mnist"
      ],
      "execution_count": 2,
      "outputs": []
    },
    {
      "cell_type": "code",
      "source": [
        "class StopOnPoint(tf.keras.callbacks.Callback):\n",
        "    def __init__(self, point):\n",
        "        super(StopOnPoint, self).__init__()\n",
        "        self.point = point\n",
        "\n",
        "    def on_epoch_end(self, epoch, logs=None):\n",
        "        accuracy = logs['accuracy']\n",
        "        if accuracy >= self.point:\n",
        "            self.model.stop_training = True"
      ],
      "metadata": {
        "id": "qzcLs7d-JenF"
      },
      "execution_count": 4,
      "outputs": []
    },
    {
      "cell_type": "code",
      "source": [
        "(x_train, y_train), (x_test, y_test) = mnist.load_data()\n",
        "x_train = x_train.reshape((60000, 28, 28, 1))\n",
        "x_train = x_train.astype('float32') / 255\n",
        "x_test = x_test.reshape((10000, 28, 28, 1))\n",
        "x_test = x_test.astype('float32') / 255\n",
        "y_train = to_categorical(y_train)\n",
        "y_test = to_categorical(y_test)\n",
        "\n",
        "\n",
        "model = models.Sequential()\n",
        "model.add(layers.Conv2D(32, (3, 3), activation='relu', input_shape=(28, 28, 1)))\n",
        "model.add(layers.MaxPooling2D((2, 2)))\n",
        "model.add(layers.Flatten())\n",
        "model.add(layers.Dense(64, activation='relu'))\n",
        "model.add(layers.Dense(10, activation='softmax'))\n",
        "\n",
        "model.compile(optimizer='adam',\n",
        "              loss='categorical_crossentropy',\n",
        "              metrics=['accuracy'])\n",
        "\n",
        "history = model.fit(x_train, y_train, epochs=20, batch_size=100, callbacks=[StopOnPoint(0.998)])\n",
        "\n",
        "print('Достигнута точность 99.8%, поэтому обучение закончено!')\n",
        "\n",
        "test_loss, test_acc = model.evaluate(x_test, y_test)\n",
        "print('Точность на тестовом наборе данных:', test_acc)\n",
        "\n",
        "print(history.epoch, history.history['accuracy'][-1])"
      ],
      "metadata": {
        "colab": {
          "base_uri": "https://localhost:8080/"
        },
        "id": "hpjpYs2gJhJU",
        "outputId": "dfb2267f-3ee5-4669-a085-07f4f70ad546"
      },
      "execution_count": 6,
      "outputs": [
        {
          "output_type": "stream",
          "name": "stdout",
          "text": [
            "Epoch 1/20\n",
            "600/600 [==============================] - 23s 37ms/step - loss: 0.2328 - accuracy: 0.9333\n",
            "Epoch 2/20\n",
            "600/600 [==============================] - 23s 37ms/step - loss: 0.0777 - accuracy: 0.9775\n",
            "Epoch 3/20\n",
            "600/600 [==============================] - 23s 38ms/step - loss: 0.0541 - accuracy: 0.9838\n",
            "Epoch 4/20\n",
            "600/600 [==============================] - 23s 38ms/step - loss: 0.0426 - accuracy: 0.9873\n",
            "Epoch 5/20\n",
            "600/600 [==============================] - 21s 36ms/step - loss: 0.0327 - accuracy: 0.9904\n",
            "Epoch 6/20\n",
            "600/600 [==============================] - 23s 38ms/step - loss: 0.0255 - accuracy: 0.9923\n",
            "Epoch 7/20\n",
            "600/600 [==============================] - 23s 38ms/step - loss: 0.0209 - accuracy: 0.9936\n",
            "Epoch 8/20\n",
            "600/600 [==============================] - 21s 36ms/step - loss: 0.0163 - accuracy: 0.9949\n",
            "Epoch 9/20\n",
            "600/600 [==============================] - 23s 38ms/step - loss: 0.0131 - accuracy: 0.9961\n",
            "Epoch 10/20\n",
            "600/600 [==============================] - 22s 38ms/step - loss: 0.0098 - accuracy: 0.9973\n",
            "Epoch 11/20\n",
            "600/600 [==============================] - 22s 36ms/step - loss: 0.0076 - accuracy: 0.9977\n",
            "Epoch 12/20\n",
            "600/600 [==============================] - 22s 37ms/step - loss: 0.0084 - accuracy: 0.9974\n",
            "Epoch 13/20\n",
            "600/600 [==============================] - 22s 37ms/step - loss: 0.0054 - accuracy: 0.9983\n",
            "Достигнута точность 99.8%, поэтому обучение закончено!\n",
            "313/313 [==============================] - 2s 6ms/step - loss: 0.0589 - accuracy: 0.9840\n",
            "Точность на тестовом наборе данных: 0.984000027179718\n",
            "[0, 1, 2, 3, 4, 5, 6, 7, 8, 9, 10, 11, 12] 0.9983333349227905\n"
          ]
        }
      ]
    }
  ]
}